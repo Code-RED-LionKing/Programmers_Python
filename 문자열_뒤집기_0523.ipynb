{
  "nbformat": 4,
  "nbformat_minor": 0,
  "metadata": {
    "colab": {
      "provenance": [],
      "authorship_tag": "ABX9TyMHpvcTJ5H/vhaeSy4EI53z",
      "include_colab_link": true
    },
    "kernelspec": {
      "name": "python3",
      "display_name": "Python 3"
    },
    "language_info": {
      "name": "python"
    }
  },
  "cells": [
    {
      "cell_type": "markdown",
      "metadata": {
        "id": "view-in-github",
        "colab_type": "text"
      },
      "source": [
        "<a href=\"https://colab.research.google.com/github/Code-RED-LionKing/Programmers_Python/blob/main/%EB%AC%B8%EC%9E%90%EC%97%B4_%EB%92%A4%EC%A7%91%EA%B8%B0_0523.ipynb\" target=\"_parent\"><img src=\"https://colab.research.google.com/assets/colab-badge.svg\" alt=\"Open In Colab\"/></a>"
      ]
    },
    {
      "cell_type": "code",
      "execution_count": 9,
      "metadata": {
        "colab": {
          "base_uri": "https://localhost:8080/"
        },
        "id": "uAju3vidla8X",
        "outputId": "848397bd-383f-450e-b2a1-3ce0c8968e31"
      },
      "outputs": [
        {
          "output_type": "stream",
          "name": "stdout",
          "text": [
            "!dlroW ,olleH\n"
          ]
        }
      ],
      "source": [
        "def solution(my_string): #함수사용\n",
        "    answer = my_string[::-1]\n",
        "    return answer\n",
        "\n",
        "my_string = \"Hello, World!\"\n",
        "reversed_string = solution(my_string)\n",
        "print(reversed_string)"
      ]
    },
    {
      "cell_type": "code",
      "source": [
        "my_string = \"Hello, World!\"\n",
        "reversed_string = my_string[::-1]\n",
        "print(reversed_string)"
      ],
      "metadata": {
        "colab": {
          "base_uri": "https://localhost:8080/"
        },
        "id": "WLxABkQelmhf",
        "outputId": "a9a4e9db-8cc3-457c-fcf1-3178254de71e"
      },
      "execution_count": 8,
      "outputs": [
        {
          "output_type": "stream",
          "name": "stdout",
          "text": [
            "!dlroW ,olleH\n"
          ]
        }
      ]
    },
    {
      "cell_type": "code",
      "source": [],
      "metadata": {
        "id": "uggDd71TmIQk"
      },
      "execution_count": null,
      "outputs": []
    }
  ]
}