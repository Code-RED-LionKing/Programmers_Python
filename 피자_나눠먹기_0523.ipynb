{
  "nbformat": 4,
  "nbformat_minor": 0,
  "metadata": {
    "colab": {
      "provenance": [],
      "authorship_tag": "ABX9TyPe9B0SQg+3cS+dIPS8dcGl",
      "include_colab_link": true
    },
    "kernelspec": {
      "name": "python3",
      "display_name": "Python 3"
    },
    "language_info": {
      "name": "python"
    }
  },
  "cells": [
    {
      "cell_type": "markdown",
      "metadata": {
        "id": "view-in-github",
        "colab_type": "text"
      },
      "source": [
        "<a href=\"https://colab.research.google.com/github/Code-RED-LionKing/Programmers_Python/blob/main/%ED%94%BC%EC%9E%90_%EB%82%98%EB%88%A0%EB%A8%B9%EA%B8%B0_0523.ipynb\" target=\"_parent\"><img src=\"https://colab.research.google.com/assets/colab-badge.svg\" alt=\"Open In Colab\"/></a>"
      ]
    },
    {
      "cell_type": "code",
      "execution_count": 10,
      "metadata": {
        "colab": {
          "base_uri": "https://localhost:8080/"
        },
        "id": "ckJ3irrtmlo_",
        "outputId": "927941a5-3863-465e-e43e-11356d2c5e5f"
      },
      "outputs": [
        {
          "output_type": "stream",
          "name": "stdout",
          "text": [
            "3\n"
          ]
        }
      ],
      "source": [
        "def solution(n):\n",
        "    answer = 0\n",
        "    # 7의 배수이면 몫을 출력하고\n",
        "    # 나머지가 나오면 무조건 +1개\n",
        "\n",
        "    if n % 7 == 0:\n",
        "        answer = n // 7\n",
        "    else: \n",
        "        answer = (n // 7) + 1\n",
        "    return answer\n",
        "\n",
        "result = solution(15)\n",
        "print(result)\n",
        "\n",
        "# 위의 코드에서 print(answer)를 사용하여 answer 변수의 값을 출력합니다.\n",
        "# 그러나, 주의해야 할 점은 answer 변수는 함수 내부에서 정의되고 반환된 \n",
        "# 후에는 함수 밖에서 접근할 수 없습니다. 따라서, solution 함수가 반환한 \n",
        "# 값을 result 변수에 할당한 후에는 result 변수를 사용하여 값을 출력해야 합니다."
      ]
    },
    {
      "cell_type": "code",
      "source": [
        "# 다른사람의 풀이인데 이해가 안간다. \n",
        "def solution(n): \n",
        "    answer = (n // 7) + (n % 7 > 0)\n",
        "    return answer\n"
      ],
      "metadata": {
        "id": "A7HXQ_M5oxCM"
      },
      "execution_count": 8,
      "outputs": []
    }
  ]
}